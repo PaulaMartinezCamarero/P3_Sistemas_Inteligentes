{
 "cells": [
  {
   "cell_type": "markdown",
   "metadata": {},
   "source": [
    "<img style=\"float:left\" width=\"40%\" src=\"pics/escudo_COLOR_1L_DCHA.png\">\n",
    "<img style=\"float:right\" width=\"12%\" src=\"pics/PythonLogo.svg\">\n",
    "<br style=\"clear:both;\">\n",
    "\n",
    "\n",
    "<h2 style=\"display: inline-block; padding: 4mm; padding-left: 2em; background-color: navy; line-height: 1.3em; color: white; border-radius: 10px;\">Práctica 3: Planificación de turnos de enfermería</h2>\n",
    "<br style=\"clear:both;\">\n",
    "<h2 style=\"display: inline-block; padding: 4mm; padding-left: 2em; background-color: orange; line-height: 1.3em; color: white; border-radius: 10px;\">Requisitos de entrega</h2>\n",
    "\n",
    "### Grado en Ingeniería de la Salud \n",
    "\n",
    "  **Curso 24-25**\n",
    "\n",
    "\n",
    "**Este documento contiene los requisitos de entrega de la Practica 3 de la asignatura Sistemas Inteligentes para la Salud del curso 2024-25**.\n",
    "\n",
    "----------------------------------------\n",
    "## Porcentaje de calificación total\n",
    "\n",
    "La Práctica 3 (**Planificación de turnos de enfermería**) tendrá un peso del 30% en el total de la calificación de la parte de prácticas de la asignatura y **se realizará por grupos de trabajo (establecidos para la práctica 1)**.\n",
    "\n",
    "------------------\n"
   ]
  },
  {
   "cell_type": "markdown",
   "metadata": {},
   "source": [
    "## Documentos a entregar\n",
    "\n",
    "- **Repositorio de GitHub** con los documentos necesarios para comprobar el correcto funcionamiento del código implementado de acuerdo a los requisitos.\n",
    "    - Notebooks de ejecución\n",
    "        - Instrucciones de ejecución\n",
    "        - Ejemplos de ejecución\n",
    "    - Carpeta ```modules```con los módulos implementados necesarios para la ejecución.\n",
    "\n",
    "    \n",
    "- **En el buzón de entrega**:\n",
    "\n",
    "    - Informe pdf con un resumen de los pasos seguidos en la implementación, resultados y conclusiones del estudio de resultados con las diferentes opciones de configuración del algoritmo, así como la justificación de la configuración final elegida. Dentro del informe también se tienen que incluir:\n",
    "        - Calendario final de turnos a entregar al responsable del servicio.\n",
    "        - Cronograma de trabajo planteado y real.\n",
    "        - Enlace al video-presentación en el que se explique el desarrollo y funcionamiento de cada una de las tareas planteadas en la práctica.\n",
    "\n",
    "------------------\n",
    "\n",
    "## Fecha de entrega\n",
    "\n",
    "- La fecha propuesta para la entrega de los documentos de la Práctica 3 será el **viernes 10 de enero de 2024**.\n",
    "\n",
    "- Todos aquellos archivos que no se entreguen en el repositorio y a través del buzón correspondiente dentro de los límites temporales establecidos, no se serán evaluados ni calificados.\n",
    "------------------\n",
    "\n",
    "\n",
    "## Rúbrica de calificación:\n",
    "\n",
    "- Código algoritmo genético completo **(4 puntos)** \n",
    "<div class=\"alert alert-warning\"> Si las funciones implementadas no están modularizadas y correctamente documentadas, la calificación final podrá reducirse hasta un <b>30%</b></div>\n",
    "\n",
    "- Estudio de diferentes configuraciones del algoritmo genético y sus resultados. Contestación a las preguntas propuestas. **(4 puntos)**\n",
    "  \n",
    "- Documentación del repositorio, valoración del PDF con explicación de los pasos elegidos para el desarrollo y cronograma de implementación y valoración de las explicaciones incluidas en el video explicación **(2 puntos)**\n",
    "\n",
    "\n",
    "<div class=\"alert alert-danger\"> <b>IMPORTANTE: </b> Si se detecta plagio o copia del trabajo la calificación final de parte de prácticas de la asignatura sera de <b>0</b></div>\n"
   ]
  }
 ],
 "metadata": {
  "kernelspec": {
   "display_name": "Python 3 (ipykernel)",
   "language": "python",
   "name": "python3"
  },
  "language_info": {
   "codemirror_mode": {
    "name": "ipython",
    "version": 3
   },
   "file_extension": ".py",
   "mimetype": "text/x-python",
   "name": "python",
   "nbconvert_exporter": "python",
   "pygments_lexer": "ipython3",
   "version": "3.9.13"
  },
  "widgets": {
   "state": {
    "042bada4e434454aaa908b25461e3531": {
     "views": [
      {
       "cell_index": 6
      }
     ]
    },
    "70d5bfdaf81b4f57ba5f3ab63745e01f": {
     "views": [
      {
       "cell_index": 6
      }
     ]
    },
    "ae0d245cc8874fb6951e921b363d8c61": {
     "views": [
      {
       "cell_index": 6
      }
     ]
    },
    "cb210eb6fe2d4689bd59da4880bb4db2": {
     "views": [
      {
       "cell_index": 4
      }
     ]
    }
   },
   "version": "1.2.0"
  }
 },
 "nbformat": 4,
 "nbformat_minor": 4
}
