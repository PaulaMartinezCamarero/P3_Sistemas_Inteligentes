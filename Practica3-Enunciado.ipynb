{
 "cells": [
  {
   "cell_type": "markdown",
   "metadata": {
    "collapsed": true,
    "jupyter": {
     "outputs_hidden": true
    }
   },
   "source": [
    "<img style=\"float:left\" width=\"40%\" src=\"pics/escudo_COLOR_1L_DCHA.png\">\n",
    "<img style=\"float:right\" width=\"12%\" src=\"pics/PythonLogo.svg\">\n",
    "<br style=\"clear:both;\">\n",
    "\n",
    "\n",
    "<h2 style=\"display: inline-block; padding: 4mm; padding-left: 2em; background-color: navy; line-height: 1.3em; color: white; border-radius: 10px;\">Práctica 3: Planificación de turnos de enfermería</h2>\n",
    "<br style=\"clear:both;\">\n",
    "<h2 style=\"display: inline-block; padding: 4mm; padding-left: 2em; background-color: orange; line-height: 1.3em; color: white; border-radius: 10px;\">Aplicación práctica de algoritmos genéticos</h2>\n",
    "\n",
    "\n",
    "### Grado en Ingeniería de la Salud \n",
    "\n",
    "  **Curso 24-25**\n"
   ]
  },
  {
   "cell_type": "markdown",
   "metadata": {},
   "source": [
    "Uno de los usos más extendidos de los algoritmos genéticos en la optimización de recursos sanitarios es la generación de horarios para gestionar los turnos. Concretamente, son ampliamente utilizados en los centros sanitarios para crear turnos eficientes. Dichos turnos pueden establecerse tanto para el orden de los pacientes, como para los horarios del propio personal sanitario como el servicio de enfermería.\n",
    "\n",
    "<img style=\"float:center\" width=\"100%\" src=\"pics/equipo_enfermeria.png\">"
   ]
  },
  {
   "cell_type": "markdown",
   "metadata": {},
   "source": [
    "### Supuesto práctico\n",
    "Es conocido que el departamento de Urgencias es la primera línea de atención de emergencias en un hospital. Desafortunadamente, es también el primero en sufrir el problema de escasez de personal, especialmente de personal de enfermería, siendo en ocasiones criticado por la disminución de la calidad del servicio.\n",
    "\n",
    "Sin embargo, se puede mejorar la calidad del servicio en ese y otros departamentos empleando un algoritmo genético que ajuste adecuadamente los horarios de las enfermeras.\n",
    "\n",
    "Se nos solicita la implementación de un algoritmo genético que nos permita calendarizar los turnos de un determinado servicio de enfermería en un departamento de un hospital.\n",
    "\n",
    "Disponemos de varios requisitos por parte del responsable del departamento, los cuales se deben cumplir:\n",
    "- Un/a enfermer@ no pude trabajar dos turnos seguidos.\n",
    "- Un/a enfermer@ no puede trabajar más de cinco turnos a la semana\n",
    "- El personal de enfermería que debe estar presente por cada turno se debe ajustar a los siguiente límites:\n",
    "    - Turno de mañana: 4-5 enfermer@s\n",
    "    - Turno de tarde: 3-4 enfermer@s\n",
    "    - Turno de noche: siempre dos enfermer@s\n",
    "    \n",
    "Además, también se nos indica que cada enfermer@ traslada a la jefatura del departamente sus preferencias según sus necesidades (i.e. no realizar noches, no realizar mañanas o tardes o combinaciones)\n",
    "\n",
    "Se podrían incluir algunas variantes más, pero trabajaremos unicamente con las anteriores.\n"
   ]
  },
  {
   "cell_type": "markdown",
   "metadata": {},
   "source": [
    "## Representación de datos\n",
    "\n",
    "Para la representación de los turnos se propone el empleo de una lista binaria para cada uno de l@s enfermer@s, en que cada uno de los bit de la lista represente un turno diferente, donde el `1` representa que trabajo en ese turno y `0` no trabajo en ese turno.\n",
    "\n",
    "De esta forma, para el calendario semanal de cada individuo tendremos una lista 21 elementos, donde cada \"codón\" o grupo de tres bits, caracteriza los turnos de un día:\n",
    "- Si los tres bits de un día se encuentran a `0`, quiere decir que el individuo tiene libre ese día.\n",
    "- No se permite que un individuo pueda tener dos turnos en el mismo día, por lo que cada día se puede caracterizar por el turno que tiene asignado:\n",
    "\n",
    "<img style=\"float:center\" width=\"100%\" src=\"pics/ejemplo_indv.png\">\n",
    "\n",
    "Los calendarios de todos los individuos será una concatenación de cadenas binarias, que representarán la solución completa."
   ]
  },
  {
   "cell_type": "markdown",
   "metadata": {},
   "source": [
    "## Tipos de restricciones\n",
    "\n",
    "A partir de la representación de datos elegida, para comprobar si se cumplen las restricciones impuestas por los requisitos, podremos sumar de forma concreta los turnos de cada individuo dependiendo de la restricción que estemos considerando y obtener el número total de infracciones (incumplimiento de las restricciones) que tenemos para un determinado individuo.\n",
    "\n",
    "Sin embargo, en este problema, tenemos dos tipos diferentes de restricciones. Por un lado se encuentran aquellas que están determinadas por las reglas de la institución hospitalaria o bien por la legislación laboral establecida. El incumplimiento de alguna de estas reglas, invalida la solución. Este tipo de restricciones de denominan duras (**hard constraints**).\n",
    "\n",
    "Además tenemos las restricciones debidas a las preferencias de turnos que tiene cada uno de los individuos. En este caso, el incumplimiento de alguna de estas restricciones, no invalida completamente la solución, aunque puede generar cierto malestar en los enfermer@s. Este tipo de restricciones son las denominadas blandas (**soft constraints**).\n",
    "\n",
    "Existen numerosas maneras de gestionar este tipo de restricciones en un algoritmo genético:\n",
    "- Diseñar la representación de los individuos para que algunas o todas las restricciones duras no estén permitidas (similar a lo establecido en el ejemplo de las N-reinas cuando forzamos a que cada una de las reinas se encuentre en una fila y columna diferente en la población inicial).\n",
    "- Descartar aquellas soluciones que infrinjan algunas de las restricciones duras, lo que puede provocar la pérdida de información valiosa de esos individuos.\n",
    "- Reparar las soluciones que inclumplan alguna restriccion dura, manipulando la solución para que no vuelva a vulnerarse la restricción. Este proceso puede ser dificil y también puede conllevar la pérdida de información.\n",
    "- Penalizar de diferente manera las infracciones de restricciones duras con respecto a las blandas, de forma que el ajuste que se obtiene con esa solución tiene una puntuación menor de lo deseado, pero sigue siendo elegible en los siguientes procesos del algoritmo. El reto en este caso es encontrar el factor de penalización idóneo y apropiado para el problema en cuestión. Una penalización demasiado alta, puede hacer que se produzca un proceso de eliminación de esas soluciones, mientras que una penalización muy baja puede hacer que las soluciones erroneas aparezcan como óptimas.\n",
    "\n",
    "En esta práctica se plantea el empleo de esta última estrategia, penalizando de diferente manera las restricciones duras mediante un factor de penalización que ampliará el peso de este tipo de infracciones con respecto a las obtenidas por las preferencias de los individuos.\n",
    "\n",
    "La configuración de estas restricciones ya está incorporado en el código proporcionado, lo que no implica que todas las soluciones que se puedan obtener cumplan las restricciones duras. \n"
   ]
  },
  {
   "cell_type": "markdown",
   "metadata": {},
   "source": [
    "## Material disponible\n",
    "\n",
    "### Clase `TurnosEnfermeria`\n",
    "\n",
    "Se pone a vuestra disposición la clase `TurnosEnfermeria` que se encuentra en el archivo `turnosenfermeria.py`. \n",
    "Esta clase modela mediante atributos y métodos las características de los turnos de enfermería y las funciones para obtener diferente información:\n",
    "\n",
    "```Python\n",
    "\n",
    "def __init__(self, enfermers, preferencias,numSemanas=1):\n",
    "        \n",
    "def __len__(self):\n",
    "    \n",
    "def getCoste(self, calendario):\n",
    "\n",
    "def getTurnosEnfermeria(self, calendario):\n",
    "    \n",
    "def countInfracionesTurnosMismoDia(self, turnosEnfermDict):\n",
    "    \n",
    "def countInfracionesTurnosConsecutivos(self, turnosEnfermDict):\n",
    "    \n",
    "def countInfraccionesTurnosPorSemana(self, turnosEnfermDict):\n",
    "    \n",
    "def countInfraccionesEnfermerPorTurno(self, turnosEnfermDict):\n",
    "    \n",
    "def countInfraccionesPreferenciaTurnos(self, turnosEnfermDict):\n",
    "    \n",
    "def mostrarInfoCalendario(self, calendario):\n",
    "    \n",
    "```\n",
    "Para instanciar un objeto `TurnosEnfermeria`, se deben incluir los nombres de cada uno de los miembros del personal de enfermería que trabajen en ese servicio (en una lista de `string`) y una lista de preferencias de longitud igual al numero de enfermer@s, donde cada uno de los elementos sea una lista de tres elementos donde `0` significa no preferencia y `1` que puede trabajar en ese turno sin conflicto. El resto de funciones, disponen de su ayuda correspondiente.\n",
    "\n",
    "### Datos\n",
    "Para este caso concreto, dispones de la información relativa a los nombres y su correspondiente preferencia en el archivo `./data/datos_enfermeria.txt`\n",
    "\n",
    "### Módulo `elitism`\n",
    "\n",
    "En el archivo `elitism.py` puede encontrar la implementación de un algoritmo elitista (`eaSimpleWithElitism`) que puede ser de utilidad si lo consideras oportuno.\n",
    "\n"
   ]
  },
  {
   "cell_type": "markdown",
   "metadata": {},
   "source": [
    "## Tareas a realizar\n",
    "\n",
    "- Implementar el código necesario para poder ejecutar convenientemente un algoritmo genético que permita realizar las siguientes acciones:\n",
    "    - Cargar de forma programática el contenido del archivo `./data/datos_enfermeria.txt` que contiene los datos de los miembros de servicio.\n",
    "    - Configurar los parámetros y operadores del algoritmo genético que permita obtener el calendario de turnos más óptimo posible.\n",
    "    - Ejecutar y mostrar los resultados obtenidos para diferentes configuraciones de parámetros:\n",
    "        - Cambios de procesos de mutacion (métodos y probabilidad)\n",
    "        - Cambios de procesos de cruce (métodos y probabilidad)\n",
    "        - Algoritmo simple, algoritmo con elitismo\n",
    "\n",
    "    \n",
    "<br style=\"clear:both;\">\n",
    "\n",
    "- Realizar un estudio con los resultados que se obtienen con diferentes parámetros y operadores que pueden ser configurados y ajustados en un algoritmo genético.\n",
    "    - Preguntas:\n",
    "        - ¿Podríamos disponer de un calendario con las mismas restricciones pero con un individuo menos?\n",
    "        - ¿Mejoramos el rendimiento del calendario si incluimos un individuo más?\n",
    "        - Imaginemos que aumentamos las preferencias de los individuos (es decir, que hay mas individuos que tienen preferencias y los que tienen, aumentan las suyas), ¿sigue siendo válida la configuración elegida?\n",
    "    - Opcional: se puede intentar el calendario para cuatro semanas (un mes), modificando convenientemente los parámetros de configuración y ejecución. **OJO**: *Este proceso puede consumir muchos recursos de CPU y memoria.*\n",
    "\n",
    "<br style=\"clear:both;\">\n",
    "\n",
    "- Justificar la elección de los parámetros finales y presentar el calendario definitivo a entregar al responsable del servicio con la mejor solución obtenida para optimizar los turnos de una semana.\n",
    "\n",
    "    \n",
    "<br style=\"clear:both;\">\n",
    "\n",
    "- Documentar los pasos seguidos en la implementación y las instrucciones para realizar la comprobación del cumplimiento de los requisitos propuestos.\n",
    "\n",
    "<div class=\"alert alert-info\"><b>Cada una de estas funciones puede tener asociadas otras subfunciones dependiendo de la estrategia de implementación realizada.<br><br>\n",
    "Debes elegir convenientemente las estructuras o datos que devuelve cada una de las funciones.  \n",
    "</b></div>\n",
    "\n",
    "****     \n",
    "\n",
    "\n",
    "### IMPORTANTE \n",
    "- Modularizar las funciones que se incluyan en uno o varios archivos dentro de la carpeta ```modules```.\n",
    "- Ejecutar las funciones mediante su importación y mostrar los resultados en un notebook de Jupyter.\n",
    "- Todas las funciones implementadas deben estar correctamente documentadas.\n"
   ]
  }
 ],
 "metadata": {
  "anaconda-cloud": {},
  "kernelspec": {
   "display_name": "Python 3 (ipykernel)",
   "language": "python",
   "name": "python3"
  },
  "language_info": {
   "codemirror_mode": {
    "name": "ipython",
    "version": 3
   },
   "file_extension": ".py",
   "mimetype": "text/x-python",
   "name": "python",
   "nbconvert_exporter": "python",
   "pygments_lexer": "ipython3",
   "version": "3.13.0"
  }
 },
 "nbformat": 4,
 "nbformat_minor": 4
}
